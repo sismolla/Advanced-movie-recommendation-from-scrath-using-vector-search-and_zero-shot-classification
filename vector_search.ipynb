{
 "cells": [
  {
   "cell_type": "code",
   "execution_count": null,
   "id": "31916134",
   "metadata": {},
   "outputs": [],
   "source": [
    "from langchain_community.document_loaders import TextLoader\n",
    "from langchain_text_splitters import CharacterTextSplitter\n",
    "from langchain.vectorstores import FAISS\n"
   ]
  },
  {
   "cell_type": "code",
   "execution_count": null,
   "id": "dbaee487",
   "metadata": {},
   "outputs": [],
   "source": [
    "import pandas as pd\n",
    "movies = pd.read_csv('cleand_movie.csv')\n",
    "# movies['description'].to_csv('description.txt', index=False,header=False,sep='\\n')"
   ]
  },
  {
   "cell_type": "code",
   "execution_count": null,
   "id": "ba1f6cc0",
   "metadata": {},
   "outputs": [],
   "source": [
    "raw_document = TextLoader('description.txt', encoding='utf-8').load()\n",
    "text_splitter = CharacterTextSplitter(chunk_size=0, chunk_overlap=0,separator='\\n')\n",
    "document = text_splitter.split_documents(raw_document)"
   ]
  },
  {
   "cell_type": "code",
   "execution_count": null,
   "id": "b80f8cef",
   "metadata": {},
   "outputs": [],
   "source": [
    "from langchain.embeddings import HuggingFaceEmbeddings\n",
    "embeddings = HuggingFaceEmbeddings(model_name=\"all-MiniLM-L6-v2\")\n",
    "\n",
    "db_movies = FAISS.from_documents(document, embeddings)"
   ]
  },
  {
   "cell_type": "code",
   "execution_count": null,
   "id": "eaefeace",
   "metadata": {},
   "outputs": [],
   "source": [
    "# db_movies.save_local(\"faiss_movies_index\")\n",
    "query = \"an ethiopian guy go to prison\"\n",
    "db_movies.similarity_search(query, k=5)"
   ]
  },
  {
   "cell_type": "code",
   "execution_count": null,
   "id": "b45002d4",
   "metadata": {},
   "outputs": [],
   "source": [
    "import pandas as pd\n",
    "\n",
    "def retrive_result(query: str, top_k: int = 16) -> pd.DataFrame:\n",
    "    # search similar docs\n",
    "    recs = db_movies.similarity_search(query, k=top_k)\n",
    "\n",
    "    matched_texts = [rec.page_content.strip('\"') for rec in recs]\n",
    "\n",
    "    # filter your original dataframe (replace `movies` with your real DataFrame)\n",
    "    return matched_texts\n"
   ]
  },
  {
   "cell_type": "code",
   "execution_count": null,
   "id": "4175a6e6",
   "metadata": {},
   "outputs": [],
   "source": [
    "df = retrive_result('world war 2')"
   ]
  },
  {
   "cell_type": "markdown",
   "id": "c5492a8a",
   "metadata": {},
   "source": []
  },
  {
   "cell_type": "code",
   "execution_count": null,
   "id": "8e4078b1",
   "metadata": {},
   "outputs": [],
   "source": [
    "category_mapping = {\n",
    "      # Light & Entertaining\n",
    "    'Comedy': 'Light & Entertaining',\n",
    "    'Animation': 'Light & Entertaining',\n",
    "    'Family': 'Light & Entertaining',\n",
    "    'Musical': 'Light & Entertaining',\n",
    "    'Music': 'Light & Entertaining',\n",
    "    'Romance': 'Light & Entertaining',\n",
    "    'Action': 'Light & Entertaining',\n",
    "    'Adventure': 'Light & Entertaining',\n",
    "    'Fantasy': 'Light & Entertaining',\n",
    "    'Sport': 'Light & Entertaining',\n",
    "    'TV Movie': 'Light & Entertaining',\n",
    "    'Reality-TV': 'Light & Entertaining',\n",
    "    'Talk-Show': 'Light & Entertaining',\n",
    "\n",
    "    # Dark / Serious / Realistic\n",
    "    'Drama': 'Dark / Serious / Realistic',\n",
    "    'Biography': 'Dark / Serious / Realistic',\n",
    "    'History': 'Dark / Serious / Realistic',\n",
    "    'War': 'Dark / Serious / Realistic',\n",
    "    'Thriller': 'Dark / Serious / Realistic',\n",
    "    'Crime': 'Dark / Serious / Realistic',\n",
    "    'Mystery': 'Dark / Serious / Realistic',\n",
    "    'Horror': 'Dark / Serious / Realistic',\n",
    "    'Documentary': 'Dark / Serious / Realistic',\n",
    "    'Sci-Fi': 'Dark / Serious / Realistic',\n",
    "    'Science Fiction': 'Dark / Serious / Realistic',\n",
    "    'Western': 'Dark / Serious / Realistic',\n",
    "    'Short': 'Dark / Serious / Realistic',\n",
    "    'Adult': 'Dark / Serious / Realistic',\n",
    "}\n",
    "\n",
    "movies['simple_category'] = movies['categories'].map(category_mapping)"
   ]
  },
  {
   "cell_type": "code",
   "execution_count": null,
   "id": "452a26c5",
   "metadata": {},
   "outputs": [],
   "source": [
    "movies['simple_category'].value_counts()\n"
   ]
  },
  {
   "cell_type": "code",
   "execution_count": null,
   "id": "f981b9c3",
   "metadata": {},
   "outputs": [],
   "source": [
    "from transformers import pipeline\n",
    "fiction_catigories = ['Light & Entertaining','Dark / Serious / Realistic']\n",
    "\n",
    "\n",
    "pipe = pipeline(\n",
    "    \"zero-shot-classification\",\n",
    "    model=\"facebook/bart-large-mnli\"  # ✅ public model\n",
    ")\n"
   ]
  },
  {
   "cell_type": "code",
   "execution_count": null,
   "id": "23037a89",
   "metadata": {},
   "outputs": [],
   "source": [
    "sequence = movies.loc[movies['simple_category'] == 'Light & Entertaining','description'].reset_index(drop=True)[5]\n",
    "pipe(sequence,fiction_catigories)"
   ]
  },
  {
   "cell_type": "code",
   "execution_count": null,
   "id": "61cfd08b",
   "metadata": {},
   "outputs": [],
   "source": [
    "import numpy as np\n",
    "def define_catigories(sequence,category):\n",
    "    prediction = pipe(sequence,category)\n",
    "    max_label = np.argmax(prediction['scores'])\n",
    "    max_inex = prediction['labels'][max_label]\n",
    "\n",
    "    return max_inex"
   ]
  },
  {
   "cell_type": "code",
   "execution_count": null,
   "id": "904f1117",
   "metadata": {},
   "outputs": [],
   "source": [
    "from tqdm import tqdm\n",
    "actaul_cat = []\n",
    "predicted_cat = []\n",
    "for i in tqdm(range(0,300)):\n",
    "    sequence = movies.loc[movies['simple_category'] == 'Light & Entertaining','description'].reset_index(drop=True)[i]\n",
    "    predicted_cat+= [define_catigories(sequence,fiction_catigories)]\n",
    "    actaul_cat += ['Light & Entertaining']\n",
    "\n"
   ]
  },
  {
   "cell_type": "code",
   "execution_count": null,
   "id": "bfb847f5",
   "metadata": {},
   "outputs": [],
   "source": [
    "actaul_cat = []\n",
    "predicted_cat = []\n",
    "for i in tqdm(range(0,300)):\n",
    "    sequence = movies.loc[movies['simple_category'] == 'Dark / Serious / Realistic','description'].reset_index(drop=True)[i]\n",
    "    predicted_cat+= [define_catigories(sequence,fiction_catigories)]\n",
    "    actaul_cat += ['Dark / Serious / Realistic']\n"
   ]
  },
  {
   "cell_type": "code",
   "execution_count": null,
   "id": "1f679bbf",
   "metadata": {},
   "outputs": [],
   "source": [
    "predicted_df = pd.DataFrame({'actaul_cat':actaul_cat,'predicted_cat':predicted_cat})"
   ]
  },
  {
   "cell_type": "code",
   "execution_count": null,
   "id": "110ba578",
   "metadata": {},
   "outputs": [],
   "source": [
    "predicted_df['correct_prediction'] = np.where(predicted_df['actaul_cat'] == predicted_cat,1,0)\n",
    "predicted_df['correct_prediction']"
   ]
  },
  {
   "cell_type": "code",
   "execution_count": null,
   "id": "586aa561",
   "metadata": {},
   "outputs": [],
   "source": [
    "predicted_df['correct_prediction'].sum()/len(predicted_df)"
   ]
  }
 ],
 "metadata": {
  "kernelspec": {
   "display_name": "Python 3",
   "language": "python",
   "name": "python3"
  },
  "language_info": {
   "codemirror_mode": {
    "name": "ipython",
    "version": 3
   },
   "file_extension": ".py",
   "mimetype": "text/x-python",
   "name": "python",
   "nbconvert_exporter": "python",
   "pygments_lexer": "ipython3",
   "version": "3.11.2"
  }
 },
 "nbformat": 4,
 "nbformat_minor": 5
}
